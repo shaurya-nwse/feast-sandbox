{
 "cells": [
  {
   "cell_type": "code",
   "execution_count": 51,
   "metadata": {},
   "outputs": [],
   "source": [
    "from pprint import pprint"
   ]
  },
  {
   "cell_type": "code",
   "execution_count": 52,
   "metadata": {},
   "outputs": [],
   "source": [
    "from feast import FeatureStore\n",
    "import pandas as pd\n",
    "fs = FeatureStore(repo_path=\"feature_repo\")"
   ]
  },
  {
   "cell_type": "code",
   "execution_count": 53,
   "metadata": {},
   "outputs": [
    {
     "name": "stdout",
     "output_type": "stream",
     "text": [
      "['{\\n  \"type\": \"BATCH_FILE\",\\n  \"timestampField\": \"event_timestamp\",\\n  \"fileOptions\": {\\n    \"uri\": \"/Users/shaurya.rawat/Documents/mlplatform/feature-store/local_store/feature_repo/data/df4.parquet\"\\n  },\\n  \"name\": \"/Users/shaurya.rawat/Documents/mlplatform/feature-store/local_store/feature_repo/data/df4.parquet\"\\n}', '{\\n  \"type\": \"BATCH_FILE\",\\n  \"timestampField\": \"event_timestamp\",\\n  \"fileOptions\": {\\n    \"uri\": \"/Users/shaurya.rawat/Documents/mlplatform/feature-store/local_store/feature_repo/data/df2.parquet\"\\n  },\\n  \"name\": \"/Users/shaurya.rawat/Documents/mlplatform/feature-store/local_store/feature_repo/data/df2.parquet\"\\n}', '{\\n  \"type\": \"BATCH_FILE\",\\n  \"timestampField\": \"event_timestamp\",\\n  \"fileOptions\": {\\n    \"uri\": \"/Users/shaurya.rawat/Documents/mlplatform/feature-store/local_store/feature_repo/data/target.parquet\"\\n  },\\n  \"name\": \"/Users/shaurya.rawat/Documents/mlplatform/feature-store/local_store/feature_repo/data/target.parquet\"\\n}', '{\\n  \"type\": \"BATCH_FILE\",\\n  \"timestampField\": \"event_timestamp\",\\n  \"fileOptions\": {\\n    \"uri\": \"/Users/shaurya.rawat/Documents/mlplatform/feature-store/local_store/feature_repo/data/df3.parquet\"\\n  },\\n  \"name\": \"/Users/shaurya.rawat/Documents/mlplatform/feature-store/local_store/feature_repo/data/df3.parquet\"\\n}', '{\\n  \"type\": \"BATCH_FILE\",\\n  \"timestampField\": \"event_timestamp\",\\n  \"fileOptions\": {\\n    \"uri\": \"/Users/shaurya.rawat/Documents/mlplatform/feature-store/local_store/feature_repo/data/df1.parquet\"\\n  },\\n  \"name\": \"/Users/shaurya.rawat/Documents/mlplatform/feature-store/local_store/feature_repo/data/df1.parquet\"\\n}']\n"
     ]
    }
   ],
   "source": [
    "print(list(map(lambda x: str(x) ,fs.registry.list_data_sources(project=\"local_store\"))))"
   ]
  },
  {
   "cell_type": "code",
   "execution_count": 54,
   "metadata": {},
   "outputs": [
    {
     "data": {
      "text/plain": [
       "['{\\n  \"spec\": {\\n    \"name\": \"patient\",\\n    \"valueType\": \"INT64\",\\n    \"description\": \"Patient\",\\n    \"joinKey\": \"patient_id\"\\n  },\\n  \"meta\": {\\n    \"createdTimestamp\": \"2023-01-31T15:27:36.608930Z\",\\n    \"lastUpdatedTimestamp\": \"2023-01-31T15:27:36.608930Z\"\\n  }\\n}',\n",
       " '{\\n  \"spec\": {\\n    \"name\": \"__dummy\",\\n    \"joinKey\": \"__dummy_id\"\\n  },\\n  \"meta\": {\\n    \"createdTimestamp\": \"2023-01-31T15:27:36.608992Z\",\\n    \"lastUpdatedTimestamp\": \"2023-01-31T15:27:36.608992Z\"\\n  }\\n}']"
      ]
     },
     "execution_count": 54,
     "metadata": {},
     "output_type": "execute_result"
    }
   ],
   "source": [
    "list(map(lambda x: str(x), (fs.registry.list_entities(project=\"local_store\"))))"
   ]
  },
  {
   "cell_type": "code",
   "execution_count": 55,
   "metadata": {},
   "outputs": [
    {
     "name": "stdout",
     "output_type": "stream",
     "text": [
      "   target            event_timestamp  patient_id\n",
      "0       0 2021-07-13 09:45:30.158780           0\n",
      "1       0 2021-07-14 09:45:30.158780           1\n",
      "2       0 2021-07-15 09:45:30.158780           2\n",
      "3       0 2021-07-16 09:45:30.158780           3\n",
      "4       0 2021-07-17 09:45:30.158780           4\n",
      "5       0 2021-07-18 09:45:30.158780           5\n",
      "6       0 2021-07-19 09:45:30.158780           6\n",
      "7       0 2021-07-20 09:45:30.158780           7\n",
      "8       0 2021-07-21 09:45:30.158780           8\n",
      "9       0 2021-07-22 09:45:30.158780           9\n"
     ]
    },
    {
     "data": {
      "text/plain": [
       "1    357\n",
       "0    212\n",
       "Name: target, dtype: int64"
      ]
     },
     "execution_count": 55,
     "metadata": {},
     "output_type": "execute_result"
    }
   ],
   "source": [
    "# Get entity dataframe (Target dataframe)\n",
    "entity_df = pd.read_parquet(\"feature_repo/data/target.parquet\")\n",
    "print(entity_df.head(10))\n",
    "entity_df[\"target\"].value_counts()"
   ]
  },
  {
   "cell_type": "code",
   "execution_count": 56,
   "metadata": {},
   "outputs": [
    {
     "data": {
      "text/plain": [
       "<FeatureView(name = source1_feature_view, entities = ['patient'], ttl = 90 days, 0:00:00, stream_source = None, batch_source = {\n",
       "  \"type\": \"BATCH_FILE\",\n",
       "  \"timestampField\": \"event_timestamp\",\n",
       "  \"fileOptions\": {\n",
       "    \"uri\": \"/Users/shaurya.rawat/Documents/mlplatform/feature-store/local_store/feature_repo/data/df1.parquet\"\n",
       "  },\n",
       "  \"name\": \"/Users/shaurya.rawat/Documents/mlplatform/feature-store/local_store/feature_repo/data/df1.parquet\"\n",
       "}, entity_columns = [patient_id-Int64], features = [mean radius-Float64, mean texture-Float64, mean perimeter-Float64, mean area-Float64, mean smoothness-Float64], description = , tags = {}, owner = , projection = FeatureViewProjection(name='source1_feature_view', name_alias=None, desired_features=[], features=[mean radius-Float64, mean texture-Float64, mean perimeter-Float64, mean area-Float64, mean smoothness-Float64], join_key_map={}), created_timestamp = 2023-02-01 08:47:18.727971, last_updated_timestamp = 2023-02-01 08:47:18.727971, online = True, materialization_intervals = [])>"
      ]
     },
     "execution_count": 56,
     "metadata": {},
     "output_type": "execute_result"
    }
   ],
   "source": [
    "# fs.list_feature_views()\n",
    "fs.get_feature_view(\"source1_feature_view\")"
   ]
  },
  {
   "cell_type": "code",
   "execution_count": 57,
   "metadata": {},
   "outputs": [],
   "source": [
    "training_data = fs.get_historical_features(\n",
    "    entity_df=entity_df,\n",
    "    features=[\n",
    "        \"source1_feature_view:mean radius\",\n",
    "        \"source1_feature_view:mean texture\",\n",
    "        \"source1_feature_view:mean perimeter\",\n",
    "        \"source1_feature_view:mean area\",\n",
    "        \"source1_feature_view:mean smoothness\",\n",
    "        \"source2_feature_view:mean compactness\",\n",
    "        \"source2_feature_view:mean concavity\",\n",
    "        \"source2_feature_view:mean concave points\",\n",
    "        \"source2_feature_view:mean symmetry\",\n",
    "        \"source2_feature_view:mean fractal dimension\",\n",
    "        \"source3_feature_view:radius error\",\n",
    "        \"source3_feature_view:texture error\",\n",
    "        \"source3_feature_view:perimeter error\",\n",
    "        \"source3_feature_view:area error\",\n",
    "        \"source3_feature_view:smoothness error\",\n",
    "        \"source3_feature_view:compactness error\",\n",
    "        \"source3_feature_view:concavity error\",\n",
    "        \"source4_feature_view:concave points error\",\n",
    "        \"source4_feature_view:symmetry error\",\n",
    "        \"source4_feature_view:fractal dimension error\",\n",
    "        \"source4_feature_view:worst radius\",\n",
    "        \"source4_feature_view:worst texture\",\n",
    "        \"source4_feature_view:worst perimeter\",\n",
    "        \"source4_feature_view:worst area\",\n",
    "        \"source4_feature_view:worst smoothness\",\n",
    "        \"source4_feature_view:worst compactness\",\n",
    "        \"source4_feature_view:worst concavity\",\n",
    "        \"source4_feature_view:worst concave points\",\n",
    "        \"source4_feature_view:worst symmetry\",\n",
    "        \"source4_feature_view:worst fractal dimension\"\n",
    "    ],\n",
    "    full_feature_names=False\n",
    ").to_df()"
   ]
  },
  {
   "cell_type": "code",
   "execution_count": 58,
   "metadata": {},
   "outputs": [
    {
     "data": {
      "text/html": [
       "<div>\n",
       "<style scoped>\n",
       "    .dataframe tbody tr th:only-of-type {\n",
       "        vertical-align: middle;\n",
       "    }\n",
       "\n",
       "    .dataframe tbody tr th {\n",
       "        vertical-align: top;\n",
       "    }\n",
       "\n",
       "    .dataframe thead th {\n",
       "        text-align: right;\n",
       "    }\n",
       "</style>\n",
       "<table border=\"1\" class=\"dataframe\">\n",
       "  <thead>\n",
       "    <tr style=\"text-align: right;\">\n",
       "      <th></th>\n",
       "      <th>target</th>\n",
       "      <th>event_timestamp</th>\n",
       "      <th>patient_id</th>\n",
       "      <th>mean radius</th>\n",
       "      <th>mean texture</th>\n",
       "      <th>mean perimeter</th>\n",
       "      <th>mean area</th>\n",
       "      <th>mean smoothness</th>\n",
       "      <th>mean compactness</th>\n",
       "      <th>mean concavity</th>\n",
       "      <th>...</th>\n",
       "      <th>worst radius</th>\n",
       "      <th>worst texture</th>\n",
       "      <th>worst perimeter</th>\n",
       "      <th>worst area</th>\n",
       "      <th>worst smoothness</th>\n",
       "      <th>worst compactness</th>\n",
       "      <th>worst concavity</th>\n",
       "      <th>worst concave points</th>\n",
       "      <th>worst symmetry</th>\n",
       "      <th>worst fractal dimension</th>\n",
       "    </tr>\n",
       "  </thead>\n",
       "  <tbody>\n",
       "    <tr>\n",
       "      <th>0</th>\n",
       "      <td>0</td>\n",
       "      <td>2021-07-13 09:45:30.158780+00:00</td>\n",
       "      <td>0</td>\n",
       "      <td>17.99</td>\n",
       "      <td>10.38</td>\n",
       "      <td>122.80</td>\n",
       "      <td>1001.0</td>\n",
       "      <td>0.11840</td>\n",
       "      <td>0.27760</td>\n",
       "      <td>0.30010</td>\n",
       "      <td>...</td>\n",
       "      <td>25.38</td>\n",
       "      <td>17.33</td>\n",
       "      <td>184.60</td>\n",
       "      <td>2019.0</td>\n",
       "      <td>0.1622</td>\n",
       "      <td>0.6656</td>\n",
       "      <td>0.7119</td>\n",
       "      <td>0.2654</td>\n",
       "      <td>0.4601</td>\n",
       "      <td>0.11890</td>\n",
       "    </tr>\n",
       "    <tr>\n",
       "      <th>1</th>\n",
       "      <td>0</td>\n",
       "      <td>2021-07-14 09:45:30.158780+00:00</td>\n",
       "      <td>1</td>\n",
       "      <td>20.57</td>\n",
       "      <td>17.77</td>\n",
       "      <td>132.90</td>\n",
       "      <td>1326.0</td>\n",
       "      <td>0.08474</td>\n",
       "      <td>0.07864</td>\n",
       "      <td>0.08690</td>\n",
       "      <td>...</td>\n",
       "      <td>24.99</td>\n",
       "      <td>23.41</td>\n",
       "      <td>158.80</td>\n",
       "      <td>1956.0</td>\n",
       "      <td>0.1238</td>\n",
       "      <td>0.1866</td>\n",
       "      <td>0.2416</td>\n",
       "      <td>0.1860</td>\n",
       "      <td>0.2750</td>\n",
       "      <td>0.08902</td>\n",
       "    </tr>\n",
       "    <tr>\n",
       "      <th>2</th>\n",
       "      <td>0</td>\n",
       "      <td>2021-07-15 09:45:30.158780+00:00</td>\n",
       "      <td>2</td>\n",
       "      <td>19.69</td>\n",
       "      <td>21.25</td>\n",
       "      <td>130.00</td>\n",
       "      <td>1203.0</td>\n",
       "      <td>0.10960</td>\n",
       "      <td>0.15990</td>\n",
       "      <td>0.19740</td>\n",
       "      <td>...</td>\n",
       "      <td>23.57</td>\n",
       "      <td>25.53</td>\n",
       "      <td>152.50</td>\n",
       "      <td>1709.0</td>\n",
       "      <td>0.1444</td>\n",
       "      <td>0.4245</td>\n",
       "      <td>0.4504</td>\n",
       "      <td>0.2430</td>\n",
       "      <td>0.3613</td>\n",
       "      <td>0.08758</td>\n",
       "    </tr>\n",
       "    <tr>\n",
       "      <th>3</th>\n",
       "      <td>0</td>\n",
       "      <td>2021-07-16 09:45:30.158780+00:00</td>\n",
       "      <td>3</td>\n",
       "      <td>11.42</td>\n",
       "      <td>20.38</td>\n",
       "      <td>77.58</td>\n",
       "      <td>386.1</td>\n",
       "      <td>0.14250</td>\n",
       "      <td>0.28390</td>\n",
       "      <td>0.24140</td>\n",
       "      <td>...</td>\n",
       "      <td>14.91</td>\n",
       "      <td>26.50</td>\n",
       "      <td>98.87</td>\n",
       "      <td>567.7</td>\n",
       "      <td>0.2098</td>\n",
       "      <td>0.8663</td>\n",
       "      <td>0.6869</td>\n",
       "      <td>0.2575</td>\n",
       "      <td>0.6638</td>\n",
       "      <td>0.17300</td>\n",
       "    </tr>\n",
       "    <tr>\n",
       "      <th>4</th>\n",
       "      <td>0</td>\n",
       "      <td>2021-07-17 09:45:30.158780+00:00</td>\n",
       "      <td>4</td>\n",
       "      <td>20.29</td>\n",
       "      <td>14.34</td>\n",
       "      <td>135.10</td>\n",
       "      <td>1297.0</td>\n",
       "      <td>0.10030</td>\n",
       "      <td>0.13280</td>\n",
       "      <td>0.19800</td>\n",
       "      <td>...</td>\n",
       "      <td>22.54</td>\n",
       "      <td>16.67</td>\n",
       "      <td>152.20</td>\n",
       "      <td>1575.0</td>\n",
       "      <td>0.1374</td>\n",
       "      <td>0.2050</td>\n",
       "      <td>0.4000</td>\n",
       "      <td>0.1625</td>\n",
       "      <td>0.2364</td>\n",
       "      <td>0.07678</td>\n",
       "    </tr>\n",
       "    <tr>\n",
       "      <th>5</th>\n",
       "      <td>0</td>\n",
       "      <td>2021-07-18 09:45:30.158780+00:00</td>\n",
       "      <td>5</td>\n",
       "      <td>12.45</td>\n",
       "      <td>15.70</td>\n",
       "      <td>82.57</td>\n",
       "      <td>477.1</td>\n",
       "      <td>0.12780</td>\n",
       "      <td>0.17000</td>\n",
       "      <td>0.15780</td>\n",
       "      <td>...</td>\n",
       "      <td>15.47</td>\n",
       "      <td>23.75</td>\n",
       "      <td>103.40</td>\n",
       "      <td>741.6</td>\n",
       "      <td>0.1791</td>\n",
       "      <td>0.5249</td>\n",
       "      <td>0.5355</td>\n",
       "      <td>0.1741</td>\n",
       "      <td>0.3985</td>\n",
       "      <td>0.12440</td>\n",
       "    </tr>\n",
       "    <tr>\n",
       "      <th>6</th>\n",
       "      <td>0</td>\n",
       "      <td>2021-07-19 09:45:30.158780+00:00</td>\n",
       "      <td>6</td>\n",
       "      <td>18.25</td>\n",
       "      <td>19.98</td>\n",
       "      <td>119.60</td>\n",
       "      <td>1040.0</td>\n",
       "      <td>0.09463</td>\n",
       "      <td>0.10900</td>\n",
       "      <td>0.11270</td>\n",
       "      <td>...</td>\n",
       "      <td>22.88</td>\n",
       "      <td>27.66</td>\n",
       "      <td>153.20</td>\n",
       "      <td>1606.0</td>\n",
       "      <td>0.1442</td>\n",
       "      <td>0.2576</td>\n",
       "      <td>0.3784</td>\n",
       "      <td>0.1932</td>\n",
       "      <td>0.3063</td>\n",
       "      <td>0.08368</td>\n",
       "    </tr>\n",
       "    <tr>\n",
       "      <th>7</th>\n",
       "      <td>0</td>\n",
       "      <td>2021-07-20 09:45:30.158780+00:00</td>\n",
       "      <td>7</td>\n",
       "      <td>13.71</td>\n",
       "      <td>20.83</td>\n",
       "      <td>90.20</td>\n",
       "      <td>577.9</td>\n",
       "      <td>0.11890</td>\n",
       "      <td>0.16450</td>\n",
       "      <td>0.09366</td>\n",
       "      <td>...</td>\n",
       "      <td>17.06</td>\n",
       "      <td>28.14</td>\n",
       "      <td>110.60</td>\n",
       "      <td>897.0</td>\n",
       "      <td>0.1654</td>\n",
       "      <td>0.3682</td>\n",
       "      <td>0.2678</td>\n",
       "      <td>0.1556</td>\n",
       "      <td>0.3196</td>\n",
       "      <td>0.11510</td>\n",
       "    </tr>\n",
       "    <tr>\n",
       "      <th>8</th>\n",
       "      <td>0</td>\n",
       "      <td>2021-07-21 09:45:30.158780+00:00</td>\n",
       "      <td>8</td>\n",
       "      <td>13.00</td>\n",
       "      <td>21.82</td>\n",
       "      <td>87.50</td>\n",
       "      <td>519.8</td>\n",
       "      <td>0.12730</td>\n",
       "      <td>0.19320</td>\n",
       "      <td>0.18590</td>\n",
       "      <td>...</td>\n",
       "      <td>15.49</td>\n",
       "      <td>30.73</td>\n",
       "      <td>106.20</td>\n",
       "      <td>739.3</td>\n",
       "      <td>0.1703</td>\n",
       "      <td>0.5401</td>\n",
       "      <td>0.5390</td>\n",
       "      <td>0.2060</td>\n",
       "      <td>0.4378</td>\n",
       "      <td>0.10720</td>\n",
       "    </tr>\n",
       "    <tr>\n",
       "      <th>9</th>\n",
       "      <td>0</td>\n",
       "      <td>2021-07-22 09:45:30.158780+00:00</td>\n",
       "      <td>9</td>\n",
       "      <td>12.46</td>\n",
       "      <td>24.04</td>\n",
       "      <td>83.97</td>\n",
       "      <td>475.9</td>\n",
       "      <td>0.11860</td>\n",
       "      <td>0.23960</td>\n",
       "      <td>0.22730</td>\n",
       "      <td>...</td>\n",
       "      <td>15.09</td>\n",
       "      <td>40.68</td>\n",
       "      <td>97.65</td>\n",
       "      <td>711.4</td>\n",
       "      <td>0.1853</td>\n",
       "      <td>1.0580</td>\n",
       "      <td>1.1050</td>\n",
       "      <td>0.2210</td>\n",
       "      <td>0.4366</td>\n",
       "      <td>0.20750</td>\n",
       "    </tr>\n",
       "  </tbody>\n",
       "</table>\n",
       "<p>10 rows × 33 columns</p>\n",
       "</div>"
      ],
      "text/plain": [
       "   target                  event_timestamp  patient_id  mean radius  \\\n",
       "0       0 2021-07-13 09:45:30.158780+00:00           0        17.99   \n",
       "1       0 2021-07-14 09:45:30.158780+00:00           1        20.57   \n",
       "2       0 2021-07-15 09:45:30.158780+00:00           2        19.69   \n",
       "3       0 2021-07-16 09:45:30.158780+00:00           3        11.42   \n",
       "4       0 2021-07-17 09:45:30.158780+00:00           4        20.29   \n",
       "5       0 2021-07-18 09:45:30.158780+00:00           5        12.45   \n",
       "6       0 2021-07-19 09:45:30.158780+00:00           6        18.25   \n",
       "7       0 2021-07-20 09:45:30.158780+00:00           7        13.71   \n",
       "8       0 2021-07-21 09:45:30.158780+00:00           8        13.00   \n",
       "9       0 2021-07-22 09:45:30.158780+00:00           9        12.46   \n",
       "\n",
       "   mean texture  mean perimeter  mean area  mean smoothness  mean compactness  \\\n",
       "0         10.38          122.80     1001.0          0.11840           0.27760   \n",
       "1         17.77          132.90     1326.0          0.08474           0.07864   \n",
       "2         21.25          130.00     1203.0          0.10960           0.15990   \n",
       "3         20.38           77.58      386.1          0.14250           0.28390   \n",
       "4         14.34          135.10     1297.0          0.10030           0.13280   \n",
       "5         15.70           82.57      477.1          0.12780           0.17000   \n",
       "6         19.98          119.60     1040.0          0.09463           0.10900   \n",
       "7         20.83           90.20      577.9          0.11890           0.16450   \n",
       "8         21.82           87.50      519.8          0.12730           0.19320   \n",
       "9         24.04           83.97      475.9          0.11860           0.23960   \n",
       "\n",
       "   mean concavity  ...  worst radius  worst texture  worst perimeter  \\\n",
       "0         0.30010  ...         25.38          17.33           184.60   \n",
       "1         0.08690  ...         24.99          23.41           158.80   \n",
       "2         0.19740  ...         23.57          25.53           152.50   \n",
       "3         0.24140  ...         14.91          26.50            98.87   \n",
       "4         0.19800  ...         22.54          16.67           152.20   \n",
       "5         0.15780  ...         15.47          23.75           103.40   \n",
       "6         0.11270  ...         22.88          27.66           153.20   \n",
       "7         0.09366  ...         17.06          28.14           110.60   \n",
       "8         0.18590  ...         15.49          30.73           106.20   \n",
       "9         0.22730  ...         15.09          40.68            97.65   \n",
       "\n",
       "   worst area  worst smoothness  worst compactness  worst concavity  \\\n",
       "0      2019.0            0.1622             0.6656           0.7119   \n",
       "1      1956.0            0.1238             0.1866           0.2416   \n",
       "2      1709.0            0.1444             0.4245           0.4504   \n",
       "3       567.7            0.2098             0.8663           0.6869   \n",
       "4      1575.0            0.1374             0.2050           0.4000   \n",
       "5       741.6            0.1791             0.5249           0.5355   \n",
       "6      1606.0            0.1442             0.2576           0.3784   \n",
       "7       897.0            0.1654             0.3682           0.2678   \n",
       "8       739.3            0.1703             0.5401           0.5390   \n",
       "9       711.4            0.1853             1.0580           1.1050   \n",
       "\n",
       "   worst concave points  worst symmetry  worst fractal dimension  \n",
       "0                0.2654          0.4601                  0.11890  \n",
       "1                0.1860          0.2750                  0.08902  \n",
       "2                0.2430          0.3613                  0.08758  \n",
       "3                0.2575          0.6638                  0.17300  \n",
       "4                0.1625          0.2364                  0.07678  \n",
       "5                0.1741          0.3985                  0.12440  \n",
       "6                0.1932          0.3063                  0.08368  \n",
       "7                0.1556          0.3196                  0.11510  \n",
       "8                0.2060          0.4378                  0.10720  \n",
       "9                0.2210          0.4366                  0.20750  \n",
       "\n",
       "[10 rows x 33 columns]"
      ]
     },
     "execution_count": 58,
     "metadata": {},
     "output_type": "execute_result"
    }
   ],
   "source": [
    "training_data.head(10)"
   ]
  },
  {
   "cell_type": "code",
   "execution_count": 59,
   "metadata": {},
   "outputs": [
    {
     "name": "stdout",
     "output_type": "stream",
     "text": [
      "0.958041958041958\n",
      "0.9555555555555556\n",
      "0.9772727272727273\n",
      "0.9662921348314608\n"
     ]
    },
    {
     "name": "stderr",
     "output_type": "stream",
     "text": [
      "/Users/shaurya.rawat/Documents/mlplatform/feature-store/.venv/lib/python3.8/site-packages/sklearn/linear_model/_logistic.py:458: ConvergenceWarning: lbfgs failed to converge (status=1):\n",
      "STOP: TOTAL NO. of ITERATIONS REACHED LIMIT.\n",
      "\n",
      "Increase the number of iterations (max_iter) or scale the data as shown in:\n",
      "    https://scikit-learn.org/stable/modules/preprocessing.html\n",
      "Please also refer to the documentation for alternative solver options:\n",
      "    https://scikit-learn.org/stable/modules/linear_model.html#logistic-regression\n",
      "  n_iter_i = _check_optimize_result(\n"
     ]
    },
    {
     "data": {
      "text/plain": [
       "['model.joblib']"
      ]
     },
     "execution_count": 59,
     "metadata": {},
     "output_type": "execute_result"
    }
   ],
   "source": [
    "training_data.head(5)\n",
    "\n",
    "from sklearn.model_selection import train_test_split\n",
    "from sklearn.linear_model import LogisticRegression\n",
    "from sklearn.metrics import accuracy_score, recall_score, precision_score, f1_score\n",
    "import joblib\n",
    "\n",
    "labels = training_data[\"target\"]\n",
    "features = training_data.drop([\"target\", \"event_timestamp\", \"patient_id\"], axis=1)\n",
    "\n",
    "# train and test splits\n",
    "x_train, x_test, y_train, y_test = train_test_split(features, labels, stratify=labels)\n",
    "lr = LogisticRegression()\n",
    "lr.fit(x_train[sorted(x_train)], y_train)\n",
    "\n",
    "y_pred = lr.predict(x_test[sorted(x_test)])\n",
    "\n",
    "print(accuracy_score(y_test, y_pred))\n",
    "print(recall_score(y_test, y_pred))\n",
    "print(precision_score(y_test, y_pred))\n",
    "print(f1_score(y_test, y_pred))\n",
    "\n",
    "joblib.dump(value=lr, filename=\"model.joblib\")"
   ]
  },
  {
   "cell_type": "code",
   "execution_count": 60,
   "metadata": {},
   "outputs": [
    {
     "name": "stdout",
     "output_type": "stream",
     "text": [
      "Materializing \u001b[1m\u001b[32m5\u001b[0m feature views to \u001b[1m\u001b[32m2023-02-01 09:42:48+01:00\u001b[0m into the \u001b[1m\u001b[32msqlite\u001b[0m online store.\n",
      "\n",
      "\u001b[1m\u001b[32msource1_feature_view\u001b[0m from \u001b[1m\u001b[32m2022-11-03 08:47:48+01:00\u001b[0m to \u001b[1m\u001b[32m2023-02-01 09:42:48+01:00\u001b[0m:\n"
     ]
    },
    {
     "name": "stderr",
     "output_type": "stream",
     "text": [
      "100%|█████████████████████████████████████████████████████████████| 90/90 [00:00<00:00, 7000.62it/s]\n"
     ]
    },
    {
     "name": "stdout",
     "output_type": "stream",
     "text": [
      "\u001b[1m\u001b[32msource3_feature_view\u001b[0m from \u001b[1m\u001b[32m2022-11-03 08:47:48+01:00\u001b[0m to \u001b[1m\u001b[32m2023-02-01 10:42:48+01:00\u001b[0m:\n"
     ]
    },
    {
     "name": "stderr",
     "output_type": "stream",
     "text": [
      "100%|█████████████████████████████████████████████████████████████| 90/90 [00:00<00:00, 6218.49it/s]\n"
     ]
    },
    {
     "name": "stdout",
     "output_type": "stream",
     "text": [
      "\u001b[1m\u001b[32mtarget_feature_view\u001b[0m from \u001b[1m\u001b[32m2022-11-03 08:47:48+01:00\u001b[0m to \u001b[1m\u001b[32m2023-02-01 10:42:48+01:00\u001b[0m:\n"
     ]
    },
    {
     "name": "stderr",
     "output_type": "stream",
     "text": [
      "100%|████████████████████████████████████████████████████████████| 90/90 [00:00<00:00, 19754.43it/s]\n"
     ]
    },
    {
     "name": "stdout",
     "output_type": "stream",
     "text": [
      "\u001b[1m\u001b[32msource2_feature_view\u001b[0m from \u001b[1m\u001b[32m2022-11-03 08:47:48+01:00\u001b[0m to \u001b[1m\u001b[32m2023-02-01 10:42:48+01:00\u001b[0m:\n"
     ]
    },
    {
     "name": "stderr",
     "output_type": "stream",
     "text": [
      "100%|█████████████████████████████████████████████████████████████| 90/90 [00:00<00:00, 8467.26it/s]"
     ]
    },
    {
     "name": "stdout",
     "output_type": "stream",
     "text": [
      "\u001b[1m\u001b[32msource4_feature_view\u001b[0m from \u001b[1m\u001b[32m2022-11-03 08:47:48+01:00\u001b[0m to \u001b[1m\u001b[32m2023-02-01 10:42:48+01:00\u001b[0m:\n"
     ]
    },
    {
     "name": "stderr",
     "output_type": "stream",
     "text": [
      "\n",
      "100%|█████████████████████████████████████████████████████████████| 90/90 [00:00<00:00, 3753.59it/s]\n"
     ]
    }
   ],
   "source": [
    "# Materialize into online store\n",
    "from datetime import datetime, timedelta\n",
    "fs.materialize_incremental(end_date=datetime.now() - timedelta(minutes=5))"
   ]
  },
  {
   "cell_type": "code",
   "execution_count": 61,
   "metadata": {},
   "outputs": [
    {
     "data": {
      "text/plain": [
       "<FeatureView(name = source1_feature_view, entities = ['patient'], ttl = 90 days, 0:00:00, stream_source = None, batch_source = {\n",
       "  \"type\": \"BATCH_FILE\",\n",
       "  \"timestampField\": \"event_timestamp\",\n",
       "  \"fileOptions\": {\n",
       "    \"uri\": \"/Users/shaurya.rawat/Documents/mlplatform/feature-store/local_store/feature_repo/data/df1.parquet\"\n",
       "  },\n",
       "  \"name\": \"/Users/shaurya.rawat/Documents/mlplatform/feature-store/local_store/feature_repo/data/df1.parquet\"\n",
       "}, entity_columns = [patient_id-Int64], features = [mean radius-Float64, mean texture-Float64, mean perimeter-Float64, mean area-Float64, mean smoothness-Float64], description = , tags = {}, owner = , projection = FeatureViewProjection(name='source1_feature_view', name_alias=None, desired_features=[], features=[mean radius-Float64, mean texture-Float64, mean perimeter-Float64, mean area-Float64, mean smoothness-Float64], join_key_map={}), created_timestamp = 2023-02-01 08:47:18.727971, last_updated_timestamp = 2023-02-01 08:47:48.453907, online = True, materialization_intervals = [(datetime.datetime(2022, 11, 3, 8, 47, 48, 403021, tzinfo=<UTC>), datetime.datetime(2023, 2, 1, 9, 42, 48, 393605, tzinfo=<UTC>))])>"
      ]
     },
     "execution_count": 61,
     "metadata": {},
     "output_type": "execute_result"
    }
   ],
   "source": [
    "fs.registry.get_feature_view(\"source1_feature_view\", project=\"local_store\", allow_cache=False)"
   ]
  },
  {
   "cell_type": "code",
   "execution_count": 64,
   "metadata": {},
   "outputs": [
    {
     "data": {
      "text/html": [
       "<div>\n",
       "<style scoped>\n",
       "    .dataframe tbody tr th:only-of-type {\n",
       "        vertical-align: middle;\n",
       "    }\n",
       "\n",
       "    .dataframe tbody tr th {\n",
       "        vertical-align: top;\n",
       "    }\n",
       "\n",
       "    .dataframe thead th {\n",
       "        text-align: right;\n",
       "    }\n",
       "</style>\n",
       "<table border=\"1\" class=\"dataframe\">\n",
       "  <thead>\n",
       "    <tr style=\"text-align: right;\">\n",
       "      <th></th>\n",
       "      <th>patient_id</th>\n",
       "      <th>mean perimeter</th>\n",
       "      <th>mean area</th>\n",
       "      <th>mean texture</th>\n",
       "      <th>mean radius</th>\n",
       "      <th>mean smoothness</th>\n",
       "      <th>mean symmetry</th>\n",
       "      <th>mean concavity</th>\n",
       "      <th>mean compactness</th>\n",
       "      <th>mean fractal dimension</th>\n",
       "      <th>...</th>\n",
       "      <th>fractal dimension error</th>\n",
       "      <th>worst perimeter</th>\n",
       "      <th>worst concave points</th>\n",
       "      <th>worst compactness</th>\n",
       "      <th>worst symmetry</th>\n",
       "      <th>worst fractal dimension</th>\n",
       "      <th>symmetry error</th>\n",
       "      <th>worst area</th>\n",
       "      <th>concave points error</th>\n",
       "      <th>worst smoothness</th>\n",
       "    </tr>\n",
       "  </thead>\n",
       "  <tbody>\n",
       "    <tr>\n",
       "      <th>0</th>\n",
       "      <td>555</td>\n",
       "      <td>65.67</td>\n",
       "      <td>321.4</td>\n",
       "      <td>27.61</td>\n",
       "      <td>10.29</td>\n",
       "      <td>0.0903</td>\n",
       "      <td>0.1593</td>\n",
       "      <td>0.059990</td>\n",
       "      <td>0.07658</td>\n",
       "      <td>0.06127</td>\n",
       "      <td>...</td>\n",
       "      <td>0.004938</td>\n",
       "      <td>69.57</td>\n",
       "      <td>0.09127</td>\n",
       "      <td>0.171</td>\n",
       "      <td>0.2226</td>\n",
       "      <td>0.08283</td>\n",
       "      <td>0.01843</td>\n",
       "      <td>357.6</td>\n",
       "      <td>0.017210</td>\n",
       "      <td>0.1384</td>\n",
       "    </tr>\n",
       "    <tr>\n",
       "      <th>1</th>\n",
       "      <td>556</td>\n",
       "      <td>64.73</td>\n",
       "      <td>311.7</td>\n",
       "      <td>19.59</td>\n",
       "      <td>10.16</td>\n",
       "      <td>0.1003</td>\n",
       "      <td>0.1791</td>\n",
       "      <td>0.005025</td>\n",
       "      <td>0.07504</td>\n",
       "      <td>0.06331</td>\n",
       "      <td>...</td>\n",
       "      <td>0.002278</td>\n",
       "      <td>67.88</td>\n",
       "      <td>0.02232</td>\n",
       "      <td>0.120</td>\n",
       "      <td>0.2262</td>\n",
       "      <td>0.06742</td>\n",
       "      <td>0.02572</td>\n",
       "      <td>347.3</td>\n",
       "      <td>0.007082</td>\n",
       "      <td>0.1265</td>\n",
       "    </tr>\n",
       "  </tbody>\n",
       "</table>\n",
       "<p>2 rows × 31 columns</p>\n",
       "</div>"
      ],
      "text/plain": [
       "   patient_id  mean perimeter  mean area  mean texture  mean radius  \\\n",
       "0         555           65.67      321.4         27.61        10.29   \n",
       "1         556           64.73      311.7         19.59        10.16   \n",
       "\n",
       "   mean smoothness  mean symmetry  mean concavity  mean compactness  \\\n",
       "0           0.0903         0.1593        0.059990           0.07658   \n",
       "1           0.1003         0.1791        0.005025           0.07504   \n",
       "\n",
       "   mean fractal dimension  ...  fractal dimension error  worst perimeter  \\\n",
       "0                 0.06127  ...                 0.004938            69.57   \n",
       "1                 0.06331  ...                 0.002278            67.88   \n",
       "\n",
       "   worst concave points  worst compactness  worst symmetry  \\\n",
       "0               0.09127              0.171          0.2226   \n",
       "1               0.02232              0.120          0.2262   \n",
       "\n",
       "   worst fractal dimension  symmetry error  worst area  concave points error  \\\n",
       "0                  0.08283         0.01843       357.6              0.017210   \n",
       "1                  0.06742         0.02572       347.3              0.007082   \n",
       "\n",
       "   worst smoothness  \n",
       "0            0.1384  \n",
       "1            0.1265  \n",
       "\n",
       "[2 rows x 31 columns]"
      ]
     },
     "execution_count": 64,
     "metadata": {},
     "output_type": "execute_result"
    }
   ],
   "source": [
    "# Fetch from online store\n",
    "# Issue with SQL Registry: https://github.com/feast-dev/feast/pull/3450\n",
    "# Pull in bleeding edge?\n",
    "\n",
    "serving_features = fs.get_online_features(\n",
    "    features=[\n",
    "        \"source1_feature_view:mean radius\",\n",
    "        \"source1_feature_view:mean texture\",\n",
    "        \"source1_feature_view:mean perimeter\",\n",
    "        \"source1_feature_view:mean area\",\n",
    "        \"source1_feature_view:mean smoothness\",\n",
    "        \"source2_feature_view:mean compactness\",\n",
    "        \"source2_feature_view:mean concavity\",\n",
    "        \"source2_feature_view:mean concave points\",\n",
    "        \"source2_feature_view:mean symmetry\",\n",
    "        \"source2_feature_view:mean fractal dimension\",\n",
    "        \"source3_feature_view:radius error\",\n",
    "        \"source3_feature_view:texture error\",\n",
    "        \"source3_feature_view:perimeter error\",\n",
    "        \"source3_feature_view:area error\",\n",
    "        \"source3_feature_view:smoothness error\",\n",
    "        \"source3_feature_view:compactness error\",\n",
    "        \"source3_feature_view:concavity error\",\n",
    "        \"source4_feature_view:concave points error\",\n",
    "        \"source4_feature_view:symmetry error\",\n",
    "        \"source4_feature_view:fractal dimension error\",\n",
    "        \"source4_feature_view:worst radius\",\n",
    "        \"source4_feature_view:worst texture\",\n",
    "        \"source4_feature_view:worst perimeter\",\n",
    "        \"source4_feature_view:worst area\",\n",
    "        \"source4_feature_view:worst smoothness\",\n",
    "        \"source4_feature_view:worst compactness\",\n",
    "        \"source4_feature_view:worst concavity\",\n",
    "        \"source4_feature_view:worst concave points\",\n",
    "        \"source4_feature_view:worst symmetry\",\n",
    "        \"source4_feature_view:worst fractal dimension\"\n",
    "    ],\n",
    "    entity_rows=[{\"patient_id\": 555}, {\"patient_id\": 556}]\n",
    ").to_df()\n",
    "\n",
    "serving_features"
   ]
  },
  {
   "cell_type": "code",
   "execution_count": 65,
   "metadata": {},
   "outputs": [
    {
     "data": {
      "text/plain": [
       "array([1, 1])"
      ]
     },
     "execution_count": 65,
     "metadata": {},
     "output_type": "execute_result"
    }
   ],
   "source": [
    "# inference from the model\n",
    "model = joblib.load(\"model.joblib\")\n",
    "model.predict(serving_features[sorted(serving_features)].drop([\"patient_id\"], axis=1))"
   ]
  }
 ],
 "metadata": {
  "kernelspec": {
   "display_name": ".venv",
   "language": "python",
   "name": "python3"
  },
  "language_info": {
   "codemirror_mode": {
    "name": "ipython",
    "version": 3
   },
   "file_extension": ".py",
   "mimetype": "text/x-python",
   "name": "python",
   "nbconvert_exporter": "python",
   "pygments_lexer": "ipython3",
   "version": "3.8.12 (default, Oct 12 2021, 06:23:56) \n[Clang 10.0.0 ]"
  },
  "orig_nbformat": 4,
  "vscode": {
   "interpreter": {
    "hash": "a0e517e424a48f31ab91b8c130a0638b80fd8696e0f9c4968490eb42cea8fcf5"
   }
  }
 },
 "nbformat": 4,
 "nbformat_minor": 2
}
